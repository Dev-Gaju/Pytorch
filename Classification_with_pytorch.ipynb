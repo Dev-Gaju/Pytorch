{
 "cells": [
  {
   "cell_type": "code",
   "execution_count": 1,
   "id": "314dfdc4",
   "metadata": {},
   "outputs": [],
   "source": [
    "import torch \n",
    "import torchvision\n",
    "from torchvision.transforms import ToTensor, Normalize,Compose\n",
    "from torchvision.datasets import MNIST\n",
    "import matplotlib.pyplot as plt\n",
    "\n",
    "mnist =MNIST(root='data',\n",
    "            train=True, \n",
    "            download=True,\n",
    "            transform = Compose([ToTensor(), Normalize(mean=(0.5,), std=(0.5,))]))"
   ]
  },
  {
   "cell_type": "code",
   "execution_count": 2,
   "id": "03ce20c6",
   "metadata": {},
   "outputs": [
    {
     "name": "stdout",
     "output_type": "stream",
     "text": [
      "label 5\n",
      "tensor([[[-0.9922,  0.2078,  0.9843, -0.2941, -1.0000],\n",
      "         [-1.0000,  0.0902,  0.9843,  0.4902, -0.9843],\n",
      "         [-1.0000, -0.9137,  0.4902,  0.9843, -0.4510],\n",
      "         [-1.0000, -1.0000, -0.7255,  0.8902,  0.7647],\n",
      "         [-1.0000, -1.0000, -1.0000, -0.3647,  0.8824]]])\n"
     ]
    },
    {
     "data": {
      "text/plain": [
       "(tensor(-1.), tensor(1.))"
      ]
     },
     "execution_count": 2,
     "metadata": {},
     "output_type": "execute_result"
    }
   ],
   "source": [
    "img, label = mnist[0]\n",
    "print(\"label\",label)\n",
    "print(img[:,10:15, 10:15])\n",
    "torch.min(img), torch.max(img)"
   ]
  },
  {
   "cell_type": "code",
   "execution_count": 20,
   "id": "6640a7a9",
   "metadata": {},
   "outputs": [],
   "source": [
    "def denorm(x):\n",
    "    out =(x+1)/2\n",
    "#     print(out)\n",
    "    return out.clamp(0,1)"
   ]
  },
  {
   "cell_type": "code",
   "execution_count": 21,
   "id": "7fa45bc1",
   "metadata": {},
   "outputs": [
    {
     "data": {
      "text/plain": [
       "'denorm(img)'"
      ]
     },
     "execution_count": 21,
     "metadata": {},
     "output_type": "execute_result"
    }
   ],
   "source": [
    "\"\"\"denorm(img)\"\"\""
   ]
  },
  {
   "cell_type": "code",
   "execution_count": 22,
   "id": "79d4f3bf",
   "metadata": {},
   "outputs": [
    {
     "data": {
      "text/plain": [
       "<matplotlib.image.AxesImage at 0x21497ee3f08>"
      ]
     },
     "execution_count": 22,
     "metadata": {},
     "output_type": "execute_result"
    },
    {
     "data": {
      "image/png": "[encoded data removed]",
      "text/plain": [
       "<Figure size 432x288 with 1 Axes>"
      ]
     },
     "metadata": {
      "needs_background": "light"
     },
     "output_type": "display_data"
    }
   ],
   "source": [
    "img_norm = denorm(img)\n",
    "plt.imshow(img[0], cmap='gray')"
   ]
  },
  {
   "cell_type": "code",
   "execution_count": 23,
   "id": "d2e96611",
   "metadata": {},
   "outputs": [],
   "source": [
    "from torch.utils.data import DataLoader\n",
    "batch_size =200\n",
    "dataloader = DataLoader(mnist,batch_size, shuffle=True)"
   ]
  },
  {
   "cell_type": "code",
   "execution_count": 24,
   "id": "dadb45e9",
   "metadata": {},
   "outputs": [
    {
     "name": "stdout",
     "output_type": "stream",
     "text": [
      "First Batch\n",
      "torch.Size([200, 1, 28, 28])\n",
      "tensor([8, 3, 9, 1, 4, 4, 6, 7, 6, 4, 8, 2, 4, 3, 6, 1, 8, 4, 2, 6, 7, 0, 2, 5,\n",
      "        4, 3, 1, 8, 7, 0, 5, 8, 4, 9, 0, 7, 6, 0, 2, 7, 4, 2, 7, 5, 9, 4, 4, 8,\n",
      "        0, 4, 8, 2, 7, 5, 2, 5, 0, 4, 1, 0, 8, 9, 3, 8, 1, 4, 7, 5, 1, 0, 1, 0,\n",
      "        1, 9, 1, 4, 0, 3, 2, 5, 2, 4, 4, 6, 4, 0, 0, 9, 7, 8, 3, 1, 9, 2, 0, 8,\n",
      "        2, 8, 0, 2, 1, 6, 9, 7, 0, 0, 0, 5, 7, 1, 7, 9, 2, 1, 8, 7, 3, 5, 7, 5,\n",
      "        3, 1, 6, 0, 7, 7, 4, 0, 2, 0, 3, 8, 3, 6, 5, 6, 4, 0, 1, 4, 5, 2, 0, 5,\n",
      "        8, 3, 6, 9, 4, 0, 3, 0, 9, 2, 1, 2, 3, 5, 3, 5, 4, 4, 0, 7, 3, 0, 8, 2,\n",
      "        0, 3, 5, 9, 0, 0, 8, 2, 1, 1, 4, 2, 2, 3, 7, 1, 0, 3, 1, 8, 1, 1, 8, 3,\n",
      "        2, 8, 9, 6, 8, 9, 8, 6])\n"
     ]
    },
    {
     "data": {
      "image/png": "[encoded data removed]",
      "text/plain": [
       "<Figure size 432x288 with 1 Axes>"
      ]
     },
     "metadata": {
      "needs_background": "light"
     },
     "output_type": "display_data"
    }
   ],
   "source": [
    "for img_batch, label_batch in dataloader:\n",
    "    print(\"First Batch\")\n",
    "    print(img_batch.shape)\n",
    "    plt.imshow(img_batch[0][0],cmap=\"gray\")\n",
    "    print(label_batch)\n",
    "    break"
   ]
  },
  {
   "cell_type": "code",
   "execution_count": 25,
   "id": "4086febc",
   "metadata": {},
   "outputs": [],
   "source": [
    "#check GPU is available or not\n",
    "device = torch.device('cuda' if torch.cuda.is_available() else 'cpu')"
   ]
  },
  {
   "cell_type": "code",
   "execution_count": 26,
   "id": "69fa3fb8",
   "metadata": {},
   "outputs": [
    {
     "data": {
      "text/plain": [
       "device(type='cpu')"
      ]
     },
     "execution_count": 26,
     "metadata": {},
     "output_type": "execute_result"
    }
   ],
   "source": [
    "device"
   ]
  },
  {
   "cell_type": "code",
   "execution_count": 27,
   "id": "b9d37dca",
   "metadata": {},
   "outputs": [],
   "source": [
    "#Lets move to the classification\n",
    "import torch.nn as nn"
   ]
  },
  {
   "cell_type": "code",
   "execution_count": 30,
   "id": "1548b7f2",
   "metadata": {},
   "outputs": [],
   "source": []
  },
  {
   "cell_type": "markdown",
   "id": "b9785616",
   "metadata": {},
   "source": [
    "### Build Model"
   ]
  },
  {
   "cell_type": "code",
   "execution_count": 31,
   "id": "7b7d3ed0",
   "metadata": {},
   "outputs": [],
   "source": [
    "class MNistModel(ImageClassificationBase):\n",
    "    \n",
    "    def __init__(self):\n",
    "        self.network = nn.Sequential(nn.Conv2d(3, 28, kernel_size=3, padding=1),\n",
    "                                     nn.ReLU(),\n",
    "                                     nn.Conv2d(32, 64, kernel_size=3, stride=1, padding=1),\n",
    "                                     nn.ReLU(),\n",
    "                                     nn.MaxPool2d(2,2), #out check after those parameter\n",
    "                                     \n",
    "                                     nn.Conv2d(64, 128, kernel_size=3, stride=1, padding=1),\n",
    "                                     nn.ReLU(),\n",
    "                                     nn.Conv2d(128, 128, kernel_size=3, stride=1, padding=1),\n",
    "                                     nn.ReLU(),\n",
    "                                     nn.MaxPool2d(2, 2), # output: 128 x 8 x 8\n",
    "                                     \n",
    "                                     nn.Conv2d(128, 256, kernel_size=3, stride=1, padding=1),\n",
    "                                     nn.ReLU(),\n",
    "                                     nn.Conv2d(256, 256, kernel_size=3, stride=1, padding=1),\n",
    "                                     nn.ReLU(),\n",
    "                                     nn.MaxPool2d(2, 2), # output: 256 x 4 x 4\n",
    "                                     \n",
    "                                     nn.Flatten(), \n",
    "                                     nn.Linear(256*4*4, 1024),\n",
    "                                     nn.ReLU(),\n",
    "                                     nn.Linear(1024, 512),\n",
    "                                     nn.ReLU(),\n",
    "                                     nn.Linear(512, 10))\n",
    "\n",
    "            \n",
    "    def forward(self, xb):\n",
    "        return self.network(xb)"
   ]
  },
  {
   "cell_type": "code",
   "execution_count": 32,
   "id": "c0054932",
   "metadata": {},
   "outputs": [
    {
     "ename": "AttributeError",
     "evalue": "cannot assign module before Module.__init__() call",
     "output_type": "error",
     "traceback": [
      "\u001b[1;31m---------------------------------------------------------------------------\u001b[0m",
      "\u001b[1;31mAttributeError\u001b[0m                            Traceback (most recent call last)",
      "\u001b[1;32m~\\AppData\\Local\\Temp\\ipykernel_9052\\1187836265.py\u001b[0m in \u001b[0;36m<module>\u001b[1;34m\u001b[0m\n\u001b[1;32m----> 1\u001b[1;33m \u001b[0mmodel\u001b[0m \u001b[1;33m=\u001b[0m \u001b[0mMNistModel\u001b[0m\u001b[1;33m(\u001b[0m\u001b[1;33m)\u001b[0m\u001b[1;33m\u001b[0m\u001b[1;33m\u001b[0m\u001b[0m\n\u001b[0m\u001b[0;32m      2\u001b[0m \u001b[0mmodel\u001b[0m\u001b[1;33m\u001b[0m\u001b[1;33m\u001b[0m\u001b[0m\n",
      "\u001b[1;32m~\\AppData\\Local\\Temp\\ipykernel_9052\\4021465974.py\u001b[0m in \u001b[0;36m__init__\u001b[1;34m(self)\u001b[0m\n\u001b[0;32m     25\u001b[0m                                      \u001b[0mnn\u001b[0m\u001b[1;33m.\u001b[0m\u001b[0mLinear\u001b[0m\u001b[1;33m(\u001b[0m\u001b[1;36m1024\u001b[0m\u001b[1;33m,\u001b[0m \u001b[1;36m512\u001b[0m\u001b[1;33m)\u001b[0m\u001b[1;33m,\u001b[0m\u001b[1;33m\u001b[0m\u001b[1;33m\u001b[0m\u001b[0m\n\u001b[0;32m     26\u001b[0m                                      \u001b[0mnn\u001b[0m\u001b[1;33m.\u001b[0m\u001b[0mReLU\u001b[0m\u001b[1;33m(\u001b[0m\u001b[1;33m)\u001b[0m\u001b[1;33m,\u001b[0m\u001b[1;33m\u001b[0m\u001b[1;33m\u001b[0m\u001b[0m\n\u001b[1;32m---> 27\u001b[1;33m                                      nn.Linear(512, 10))\n\u001b[0m\u001b[0;32m     28\u001b[0m \u001b[1;33m\u001b[0m\u001b[0m\n\u001b[0;32m     29\u001b[0m \u001b[1;33m\u001b[0m\u001b[0m\n",
      "\u001b[1;32m~\\Anaconda3\\envs\\Pytorch\\lib\\site-packages\\torch\\nn\\modules\\module.py\u001b[0m in \u001b[0;36m__setattr__\u001b[1;34m(self, name, value)\u001b[0m\n\u001b[0;32m   1213\u001b[0m                 \u001b[1;32mif\u001b[0m \u001b[0mmodules\u001b[0m \u001b[1;32mis\u001b[0m \u001b[1;32mNone\u001b[0m\u001b[1;33m:\u001b[0m\u001b[1;33m\u001b[0m\u001b[1;33m\u001b[0m\u001b[0m\n\u001b[0;32m   1214\u001b[0m                     raise AttributeError(\n\u001b[1;32m-> 1215\u001b[1;33m                         \"cannot assign module before Module.__init__() call\")\n\u001b[0m\u001b[0;32m   1216\u001b[0m                 \u001b[0mremove_from\u001b[0m\u001b[1;33m(\u001b[0m\u001b[0mself\u001b[0m\u001b[1;33m.\u001b[0m\u001b[0m__dict__\u001b[0m\u001b[1;33m,\u001b[0m \u001b[0mself\u001b[0m\u001b[1;33m.\u001b[0m\u001b[0m_parameters\u001b[0m\u001b[1;33m,\u001b[0m \u001b[0mself\u001b[0m\u001b[1;33m.\u001b[0m\u001b[0m_buffers\u001b[0m\u001b[1;33m,\u001b[0m \u001b[0mself\u001b[0m\u001b[1;33m.\u001b[0m\u001b[0m_non_persistent_buffers_set\u001b[0m\u001b[1;33m)\u001b[0m\u001b[1;33m\u001b[0m\u001b[1;33m\u001b[0m\u001b[0m\n\u001b[0;32m   1217\u001b[0m                 \u001b[0mmodules\u001b[0m\u001b[1;33m[\u001b[0m\u001b[0mname\u001b[0m\u001b[1;33m]\u001b[0m \u001b[1;33m=\u001b[0m \u001b[0mvalue\u001b[0m\u001b[1;33m\u001b[0m\u001b[1;33m\u001b[0m\u001b[0m\n",
      "\u001b[1;31mAttributeError\u001b[0m: cannot assign module before Module.__init__() call"
     ]
    }
   ],
   "source": [
    "model = MNistModel()\n",
    "model"
   ]
  },
  {
   "cell_type": "code",
   "execution_count": null,
   "id": "a9946a76",
   "metadata": {},
   "outputs": [],
   "source": []
  }
 ],
 "metadata": {
  "kernelspec": {
   "display_name": "Python 3 (ipykernel)",
   "language": "python",
   "name": "python3"
  },
  "language_info": {
   "codemirror_mode": {
    "name": "ipython",
    "version": 3
   },
   "file_extension": ".py",
   "mimetype": "text/x-python",
   "name": "python",
   "nbconvert_exporter": "python",
   "pygments_lexer": "ipython3",
   "version": "3.7.12"
  }
 },
 "nbformat": 4,
 "nbformat_minor": 5
}
